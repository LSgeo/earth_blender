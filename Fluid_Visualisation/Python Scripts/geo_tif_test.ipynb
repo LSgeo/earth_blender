{
 "metadata": {
  "language_info": {
   "codemirror_mode": {
    "name": "ipython",
    "version": 3
   },
   "file_extension": ".py",
   "mimetype": "text/x-python",
   "name": "python",
   "nbconvert_exporter": "python",
   "pygments_lexer": "ipython3",
   "version": "3.7.9-final"
  },
  "orig_nbformat": 2,
  "kernelspec": {
   "name": "Python 3.7.9 64-bit ('earth_blender': conda)",
   "display_name": "Python 3.7.9 64-bit ('earth_blender': conda)",
   "metadata": {
    "interpreter": {
     "hash": "8c46da87203344bc2bd19a8efdb2fd58c61090a14749b3e9e8d2bf1fc70a2b96"
    }
   }
  }
 },
 "nbformat": 4,
 "nbformat_minor": 2,
 "cells": [
  {
   "cell_type": "code",
   "execution_count": 2,
   "metadata": {},
   "outputs": [],
   "source": [
    "import numpy as np\n",
    "import rasterio"
   ]
  },
  {
   "cell_type": "code",
   "execution_count": null,
   "metadata": {},
   "outputs": [],
   "source": [
    "def create_custom_mesh(objname, file_name):\n",
    "    # Define arrays for holding data    \n",
    "    myvertex = []\n",
    "    myfaces = []\n",
    "\n",
    "    # Create all Vertices\n",
    "\n",
    "    # vertex 0\n",
    "    mypoint = [(-1.0, -1.0, 0.0)]\n",
    "    myvertex.extend(mypoint)\n",
    "\n",
    "    # vertex 1\n",
    "    mypoint = [(1.0, -1.0, 0.0)]\n",
    "    myvertex.extend(mypoint)\n",
    "\n",
    "    # vertex 2\n",
    "    mypoint = [(-1.0, 1.0, 0.0)]\n",
    "    myvertex.extend(mypoint)\n",
    "\n",
    "    # vertex 3\n",
    "    mypoint = [(1.0, 1.0, 0.0)]\n",
    "    myvertex.extend(mypoint)\n",
    "\n",
    "    # -------------------------------------\n",
    "    # Create all Faces\n",
    "    # -------------------------------------\n",
    "    myface = [(0, 1, 3, 2)]\n",
    "    myfaces.extend(myface)\n",
    "\n",
    "\n",
    "    mymesh = bpy.data.meshes.new(objname)\n",
    "\n",
    "    myobject = bpy.data.objects.new(objname, mymesh)\n",
    "\n",
    "    bpy.context.scene.objects.link(myobject)\n",
    "\n",
    "    # Generate mesh data\n",
    "    mymesh.from_pydata(myvertex, [], myfaces)\n",
    "    # Calculate the edges\n",
    "    mymesh.update(calc_edges=True)\n",
    "\n",
    "    # Set Location\n",
    "    myobject.location.x = px\n",
    "    myobject.location.y = py\n",
    "    myobject.location.z = pz\n",
    "\n",
    "    return(myobject)"
   ]
  }
 ]
}